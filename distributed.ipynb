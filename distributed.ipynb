{
 "cells": [
  {
   "cell_type": "code",
   "execution_count": 6,
   "metadata": {},
   "outputs": [],
   "source": [
    "import pyspark\n",
    "from pyspark.sql import SparkSession\n",
    "import numpy as np\n",
    "import pypianoroll as pp\n",
    "from tempfile import NamedTemporaryFile"
   ]
  },
  {
   "cell_type": "code",
   "execution_count": 7,
   "metadata": {},
   "outputs": [],
   "source": [
    "spark = SparkSession.builder.master(\"local\").appName(\"data\").getOrCreate()"
   ]
  },
  {
   "cell_type": "code",
   "execution_count": 8,
   "metadata": {},
   "outputs": [
    {
     "data": {
      "text/plain": [
       "DataFrame[key: string, value: string]"
      ]
     },
     "execution_count": 8,
     "metadata": {},
     "output_type": "execute_result"
    }
   ],
   "source": [
    "# if data is in inside multiple folders, run this code\n",
    "spark.sql(\"SET mapreduce.input.fileinputformat.input.dir.recursive=true\")"
   ]
  },
  {
   "cell_type": "code",
   "execution_count": 9,
   "metadata": {},
   "outputs": [],
   "source": [
    "# change the path\n",
    "data = spark.sparkContext.binaryFiles(\"lpd/data/*\")"
   ]
  },
  {
   "cell_type": "code",
   "execution_count": 10,
   "metadata": {},
   "outputs": [
    {
     "data": {
      "text/plain": [
       "19"
      ]
     },
     "execution_count": 10,
     "metadata": {},
     "output_type": "execute_result"
    }
   ],
   "source": [
    "# quick check that the data has been downloaded\n",
    "data.count()"
   ]
  },
  {
   "cell_type": "code",
   "execution_count": 126,
   "metadata": {},
   "outputs": [],
   "source": [
    "def load_data(pair):\n",
    "  '''\n",
    "  Function that loads the binary data, splits it into chuncks\n",
    "  and return (sample,label) pairs\n",
    "  Hardcoded sequence length = 100\n",
    "  '''\n",
    "  X = list()\n",
    "  labels = list()\n",
    "  sequence_length = 100\n",
    "  # write to temp file\n",
    "  # there should be a better way of doing this\n",
    "  tracks = []\n",
    "  with NamedTemporaryFile(suffix='.npz') as tmp:\n",
    "    tmp.write(pair[1])\n",
    "    tmp.seek(0)\n",
    "    tracks = pp.load(tmp.name).tracks\n",
    "  for j in tracks:\n",
    "    # be smarter here when choosing which track to keep\n",
    "    # now it only ignores drum tracks and two blacklisted options\n",
    "    if not j.is_drum and j.name.lower() not in [\"bass\",\"bckvocals\"]:\n",
    "      roll = j.pianoroll\n",
    "      start = 0\n",
    "      end = sequence_length\n",
    "      r_len = roll.shape[0]\n",
    "      while(end+1<r_len and roll[start:end].sum() != 0):\n",
    "        current = roll[start:end]\n",
    "        current = (128-np.argmax(current[:,::-1],axis=1))-1\n",
    "        b = np.zeros((sequence_length, 128))\n",
    "        b[np.arange(sequence_length), np.transpose(current)] = 1\n",
    "        #b[:,0] = 0\n",
    "        b[:,127] = 0\n",
    "        X.append(b)\n",
    "        # we are trying to predict the next note\n",
    "        label_current = roll[end+1]\n",
    "        label_idx = (128-np.argmax(label_current[::-1]))-1\n",
    "        labels_out = np.zeros(128)\n",
    "        labels_out[label_idx] = 1\n",
    "        #labels_out[0] = 0\n",
    "        labels_out[127] = 0\n",
    "        labels.append(labels_out)\n",
    "        start = end\n",
    "        end += sequence_length\n",
    "      # if you want to take every track that satisfy the conditions\n",
    "      # comment break\n",
    "      break\n",
    "  return zip(X, labels)"
   ]
  },
  {
   "cell_type": "code",
   "execution_count": 127,
   "metadata": {},
   "outputs": [],
   "source": [
    "# transform the data into (sample, label) pairs\n",
    "loaded = data.flatMap(load_data)"
   ]
  },
  {
   "cell_type": "code",
   "execution_count": 128,
   "metadata": {},
   "outputs": [
    {
     "name": "stdout",
     "output_type": "stream",
     "text": [
      "(100, 128)\n",
      "(128,)\n"
     ]
    }
   ],
   "source": [
    "# check that the shapes are correct\n",
    "test = loaded.take(1)\n",
    "print(test[0][0].shape)\n",
    "print(test[0][1].shape)"
   ]
  }
 ],
 "metadata": {
  "kernelspec": {
   "display_name": "Python 3",
   "language": "python",
   "name": "python3"
  },
  "language_info": {
   "codemirror_mode": {
    "name": "ipython",
    "version": 3
   },
   "file_extension": ".py",
   "mimetype": "text/x-python",
   "name": "python",
   "nbconvert_exporter": "python",
   "pygments_lexer": "ipython3",
   "version": "3.6.7"
  }
 },
 "nbformat": 4,
 "nbformat_minor": 2
}
